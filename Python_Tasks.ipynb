{
  "nbformat": 4,
  "nbformat_minor": 0,
  "metadata": {
    "colab": {
      "provenance": []
    },
    "kernelspec": {
      "name": "python3",
      "display_name": "Python 3"
    },
    "language_info": {
      "name": "python"
    }
  },
  "cells": [
    {
      "cell_type": "markdown",
      "source": [
        "STRING FUNCTIONS"
      ],
      "metadata": {
        "id": "vMi1qD9eATOz"
      }
    },
    {
      "cell_type": "code",
      "execution_count": 1,
      "metadata": {
        "id": "yKJa0cLR_6mf"
      },
      "outputs": [],
      "source": [
        "s=\"my name is Chekith\""
      ]
    },
    {
      "cell_type": "code",
      "source": [
        "print(len(s))\n",
        "print(s[0])\n",
        "print(s[6])\n",
        "print(s[-2])\n",
        "print(s[::-1])\n",
        "print(s[2:7])\n",
        "print(s.upper())\n",
        "print(s.lower())"
      ],
      "metadata": {
        "colab": {
          "base_uri": "https://localhost:8080/"
        },
        "id": "FhoVH4hSAgqp",
        "outputId": "69c3a7a9-773e-403e-de49-dacea6a2cdcf"
      },
      "execution_count": 7,
      "outputs": [
        {
          "output_type": "stream",
          "name": "stdout",
          "text": [
            "18\n",
            "m\n",
            "e\n",
            "t\n",
            "htikehC si eman ym\n",
            " name\n",
            "MY NAME IS CHEKITH\n",
            "my name is chekith\n"
          ]
        }
      ]
    },
    {
      "cell_type": "markdown",
      "source": [
        "LIST FUNCTIONS"
      ],
      "metadata": {
        "id": "HgmSHYjrB6yw"
      }
    },
    {
      "cell_type": "code",
      "source": [
        "l1=[1,2,3,'name','hello','hi']\n",
        "print(l1)\n",
        "print(l1[3])\n"
      ],
      "metadata": {
        "colab": {
          "base_uri": "https://localhost:8080/"
        },
        "id": "gyXptf_zAogO",
        "outputId": "222d5226-2982-4f89-aa63-575cad493f15"
      },
      "execution_count": 27,
      "outputs": [
        {
          "output_type": "stream",
          "name": "stdout",
          "text": [
            "[1, 2, 3, 'name', 'hello', 'hi']\n",
            "name\n"
          ]
        }
      ]
    },
    {
      "cell_type": "code",
      "source": [
        "l1.append(\"meet\")\n",
        "l1"
      ],
      "metadata": {
        "colab": {
          "base_uri": "https://localhost:8080/"
        },
        "id": "cl_pkWJFCGYm",
        "outputId": "5079cc51-7e2f-47ef-acda-e62c69dd5b4a"
      },
      "execution_count": 28,
      "outputs": [
        {
          "output_type": "execute_result",
          "data": {
            "text/plain": [
              "[1, 2, 3, 'name', 'hello', 'hi', 'meet']"
            ]
          },
          "metadata": {},
          "execution_count": 28
        }
      ]
    },
    {
      "cell_type": "code",
      "source": [
        "l1.insert(2,\"come\")\n",
        "l1"
      ],
      "metadata": {
        "colab": {
          "base_uri": "https://localhost:8080/"
        },
        "id": "OX-Jpd_5CZfA",
        "outputId": "f985c571-7635-4a9b-f4bb-663dd8c06592"
      },
      "execution_count": 29,
      "outputs": [
        {
          "output_type": "execute_result",
          "data": {
            "text/plain": [
              "[1, 2, 'come', 3, 'name', 'hello', 'hi', 'meet']"
            ]
          },
          "metadata": {},
          "execution_count": 29
        }
      ]
    },
    {
      "cell_type": "code",
      "source": [
        "l1.pop(6)\n",
        "l1"
      ],
      "metadata": {
        "colab": {
          "base_uri": "https://localhost:8080/"
        },
        "id": "fLk1K_ZDCy1c",
        "outputId": "d40352f0-6b19-4344-efbb-e5c7f4d9dca4"
      },
      "execution_count": 30,
      "outputs": [
        {
          "output_type": "execute_result",
          "data": {
            "text/plain": [
              "[1, 2, 'come', 3, 'name', 'hello', 'meet']"
            ]
          },
          "metadata": {},
          "execution_count": 30
        }
      ]
    },
    {
      "cell_type": "markdown",
      "source": [
        "TUPLE FUNCTIONS"
      ],
      "metadata": {
        "id": "C6lkSC3zEmyS"
      }
    },
    {
      "cell_type": "code",
      "source": [
        "tup=(1,4,8,\"all\",\"more\")\n",
        "tup"
      ],
      "metadata": {
        "colab": {
          "base_uri": "https://localhost:8080/"
        },
        "id": "XfDawFPvEHWd",
        "outputId": "408ba3f9-b0ae-4eb0-d6d2-9a28e7d72ead"
      },
      "execution_count": 32,
      "outputs": [
        {
          "output_type": "execute_result",
          "data": {
            "text/plain": [
              "(1, 4, 8, 'all', 'more')"
            ]
          },
          "metadata": {},
          "execution_count": 32
        }
      ]
    },
    {
      "cell_type": "code",
      "source": [
        "print(tup[3])\n",
        "print(tup.count(\"all\"))"
      ],
      "metadata": {
        "colab": {
          "base_uri": "https://localhost:8080/"
        },
        "id": "rheM7r77EuPL",
        "outputId": "c22dc136-bd14-4ad3-dc42-641e1543854c"
      },
      "execution_count": 38,
      "outputs": [
        {
          "output_type": "stream",
          "name": "stdout",
          "text": [
            "all\n",
            "1\n"
          ]
        }
      ]
    },
    {
      "cell_type": "markdown",
      "source": [
        "STUDENT MARKS"
      ],
      "metadata": {
        "id": "4zF24ty3GH5h"
      }
    },
    {
      "cell_type": "code",
      "source": [
        "num=int(input(\"enter num : \"))\n",
        "if num>=90 and num<=100:\n",
        "  print(\"A\")\n",
        "elif num>=80 and num<90:\n",
        "  print(\"B\")\n",
        "elif num>=70 and num<80:\n",
        "  print(\"C\")\n",
        "else:\n",
        "  print(\"Fail\")"
      ],
      "metadata": {
        "colab": {
          "base_uri": "https://localhost:8080/"
        },
        "id": "4vtt0Wj3Fv9c",
        "outputId": "36f0285c-a4a7-4d57-e2a6-f2203333b7f0"
      },
      "execution_count": 39,
      "outputs": [
        {
          "output_type": "stream",
          "name": "stdout",
          "text": [
            "enter num : 67\n",
            "Fail\n"
          ]
        }
      ]
    },
    {
      "cell_type": "markdown",
      "source": [
        "STRING PALINDROME"
      ],
      "metadata": {
        "id": "VubwsaA0GXT8"
      }
    },
    {
      "cell_type": "code",
      "source": [
        "s1=\"radan\"\n",
        "x=s1[::-1]\n",
        "if s1==x:\n",
        "  print(\"Palindrome\")\n",
        "else:\n",
        "  print(\"Not a palindrome\")"
      ],
      "metadata": {
        "colab": {
          "base_uri": "https://localhost:8080/"
        },
        "id": "ieoFRkMuGSWM",
        "outputId": "7e5e9c20-3d4f-47a9-d2ae-1b1386d4b9b7"
      },
      "execution_count": 45,
      "outputs": [
        {
          "output_type": "stream",
          "name": "stdout",
          "text": [
            "Not a palindrome\n"
          ]
        }
      ]
    },
    {
      "cell_type": "markdown",
      "source": [
        "PRIME NUMBER CHECK"
      ],
      "metadata": {
        "id": "CV2l6jG8GzRs"
      }
    },
    {
      "cell_type": "code",
      "source": [
        "num=int(input(\"Enter Number : \"))\n",
        "count=0\n",
        "for i in range(1,num+1):\n",
        "  if num%i==0:\n",
        "    count+=1\n",
        "\n",
        "if count==2:\n",
        "  print(\"prime\")\n",
        "else:\n",
        "  print(\"not prime\")\n"
      ],
      "metadata": {
        "colab": {
          "base_uri": "https://localhost:8080/"
        },
        "id": "p0ZFC_YFGexX",
        "outputId": "678d02fc-f10d-4971-900d-46e23d8bc5c8"
      },
      "execution_count": 62,
      "outputs": [
        {
          "output_type": "stream",
          "name": "stdout",
          "text": [
            "Enter Number : 7\n",
            "prime\n"
          ]
        }
      ]
    },
    {
      "cell_type": "markdown",
      "source": [
        "FIBONACCI"
      ],
      "metadata": {
        "id": "nRPS6MwcL2Fg"
      }
    },
    {
      "cell_type": "code",
      "source": [
        "a,b=0,1\n",
        "for _ in range(10):\n",
        "  a,b=b,a+b\n",
        "  print(a)"
      ],
      "metadata": {
        "colab": {
          "base_uri": "https://localhost:8080/"
        },
        "id": "lC6RdiVMHWjh",
        "outputId": "869987a3-f5ed-4f70-c256-a5837460c82e"
      },
      "execution_count": 65,
      "outputs": [
        {
          "output_type": "stream",
          "name": "stdout",
          "text": [
            "1\n",
            "1\n",
            "2\n",
            "3\n",
            "5\n",
            "8\n",
            "13\n",
            "21\n",
            "34\n",
            "55\n"
          ]
        }
      ]
    },
    {
      "cell_type": "code",
      "source": [
        "a=0\n",
        "b=1\n",
        "for i in range(10):\n",
        "  i=a+b\n",
        "  a=b\n",
        "  b=i\n",
        "  print(a)"
      ],
      "metadata": {
        "colab": {
          "base_uri": "https://localhost:8080/"
        },
        "id": "eVUC0kh7MEB6",
        "outputId": "46b4d5a0-29b9-4e05-9f79-4e048a6835a7"
      },
      "execution_count": 71,
      "outputs": [
        {
          "output_type": "stream",
          "name": "stdout",
          "text": [
            "1\n",
            "1\n",
            "2\n",
            "3\n",
            "5\n",
            "8\n",
            "13\n",
            "21\n",
            "34\n",
            "55\n"
          ]
        }
      ]
    },
    {
      "cell_type": "markdown",
      "source": [
        "EVEN OR ODD"
      ],
      "metadata": {
        "id": "B2ushhdKM7vq"
      }
    },
    {
      "cell_type": "code",
      "source": [
        "num1=int(input(\"Enter num:\"))\n",
        "if num%2==0:\n",
        "  print(\"Even\")\n",
        "else:\n",
        "  print(\"Odd\")"
      ],
      "metadata": {
        "colab": {
          "base_uri": "https://localhost:8080/"
        },
        "id": "KhRJodUUMvlV",
        "outputId": "532ca9de-8729-4c59-aba5-758fc5c8aa58"
      },
      "execution_count": 72,
      "outputs": [
        {
          "output_type": "stream",
          "name": "stdout",
          "text": [
            "Enter num:5\n",
            "Odd\n"
          ]
        }
      ]
    },
    {
      "cell_type": "markdown",
      "source": [
        "IF EVEN - @"
      ],
      "metadata": {
        "id": "YBtpStZpVdBI"
      }
    },
    {
      "cell_type": "code",
      "source": [
        "for i in range(1,101):\n",
        "  if i%2==0:\n",
        "    print(\"@\",end=',')\n",
        "  else:\n",
        "    print(i,end=',')"
      ],
      "metadata": {
        "colab": {
          "base_uri": "https://localhost:8080/"
        },
        "id": "oLpkBejZNKDj",
        "outputId": "6203fce0-0906-4c55-a3fb-edc7710c4bbd"
      },
      "execution_count": 76,
      "outputs": [
        {
          "output_type": "stream",
          "name": "stdout",
          "text": [
            "1,@,3,@,5,@,7,@,9,@,11,@,13,@,15,@,17,@,19,@,21,@,23,@,25,@,27,@,29,@,31,@,33,@,35,@,37,@,39,@,41,@,43,@,45,@,47,@,49,@,51,@,53,@,55,@,57,@,59,@,61,@,63,@,65,@,67,@,69,@,71,@,73,@,75,@,77,@,79,@,81,@,83,@,85,@,87,@,89,@,91,@,93,@,95,@,97,@,99,@,"
          ]
        }
      ]
    },
    {
      "cell_type": "markdown",
      "source": [
        "SQUARE NUMBERS"
      ],
      "metadata": {
        "id": "WqZURhgYN5V9"
      }
    },
    {
      "cell_type": "code",
      "source": [
        "x=[i**2 for i in range(1,9)]\n",
        "x"
      ],
      "metadata": {
        "colab": {
          "base_uri": "https://localhost:8080/"
        },
        "id": "At90o-27Nqih",
        "outputId": "8bdb0f96-771b-4519-f988-2d4e1ec228f5"
      },
      "execution_count": 79,
      "outputs": [
        {
          "output_type": "execute_result",
          "data": {
            "text/plain": [
              "[1, 4, 9, 16, 25, 36, 49, 64]"
            ]
          },
          "metadata": {},
          "execution_count": 79
        }
      ]
    },
    {
      "cell_type": "markdown",
      "source": [
        "DICT KEY AND VALUE"
      ],
      "metadata": {
        "id": "ekOvsKoVOLSC"
      }
    },
    {
      "cell_type": "code",
      "source": [
        "def dicts():\n",
        "  x={\"name\":\"chekith\",\"age\":22,\"city\":\"hyd\"}\n",
        "  a= x.keys()\n",
        "  return a\n",
        "\n",
        "def display():\n",
        "  x={\"name\":\"chekith\",\"age\":22,\"city\":\"hyd\"}\n",
        "  print(x.items())\n",
        "\n",
        "print(dicts())\n",
        "print(display())"
      ],
      "metadata": {
        "colab": {
          "base_uri": "https://localhost:8080/"
        },
        "id": "22skQskbN_kz",
        "outputId": "3adbb6fa-d6b1-4db3-ed31-a6b42895ed8e"
      },
      "execution_count": 90,
      "outputs": [
        {
          "output_type": "stream",
          "name": "stdout",
          "text": [
            "dict_keys(['name', 'age', 'city'])\n",
            "dict_items([('name', 'chekith'), ('age', 22), ('city', 'hyd')])\n",
            "None\n"
          ]
        }
      ]
    },
    {
      "cell_type": "markdown",
      "source": [
        "USER DETAILS"
      ],
      "metadata": {
        "id": "a3D2gjdxQicZ"
      }
    },
    {
      "cell_type": "code",
      "source": [
        "\n",
        "\n",
        "def details():\n",
        "  name=input(\"Enter name : \")\n",
        "  age=int(input(\"Enter age : \"))\n",
        "  city=input(\"Enter city : \")\n",
        "  return name,age,city\n",
        "def display(name,age,city):\n",
        "  print(name)\n",
        "  print(age)\n",
        "  print(city)\n",
        "\n",
        "user_name,user_age,user_city=details()\n",
        "print(display(user_name,user_age,user_city))\n"
      ],
      "metadata": {
        "colab": {
          "base_uri": "https://localhost:8080/"
        },
        "id": "hcI7uSS8OssF",
        "outputId": "03561507-3933-4a0f-a8e1-6d048b4eafda"
      },
      "execution_count": 104,
      "outputs": [
        {
          "output_type": "stream",
          "name": "stdout",
          "text": [
            "Enter name : chekith\n",
            "Enter age : 22\n",
            "Enter city : Hyd\n",
            "chekith\n",
            "22\n",
            "Hyd\n",
            "None\n"
          ]
        }
      ]
    },
    {
      "cell_type": "code",
      "source": [],
      "metadata": {
        "id": "PqQCRPRYRDYk"
      },
      "execution_count": null,
      "outputs": []
    }
  ]
}